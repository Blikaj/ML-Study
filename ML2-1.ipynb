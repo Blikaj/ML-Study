{
 "cells": [
  {
   "cell_type": "code",
   "execution_count": 2,
   "id": "50ec40d3",
   "metadata": {},
   "outputs": [],
   "source": [
    "import pandas as pd\n",
    "from sklearn.model_selection import train_test_split\n",
    "import  numpy as np\n",
    "import matplotlib.pyplot as plt\n",
    "import seaborn as sns\n",
    "from sklearn.linear_model import LogisticRegression\n",
    "from sklearn import metrics\n",
    "from cf_matrix import make_confusion_matrix"
   ]
  },
  {
   "cell_type": "code",
   "execution_count": 3,
   "id": "338ed86d",
   "metadata": {},
   "outputs": [],
   "source": [
    "col_names = ['pregnant', 'glucose', 'bp', 'skin', 'insulin', 'bmi', 'pedigree', 'age', 'label']\n",
    "pima = pd.read_csv('./diabetes.csv', header=None, names=col_names)\n",
    "pima = pima[1:]"
   ]
  },
  {
   "cell_type": "code",
   "execution_count": 4,
   "id": "39e40bf6",
   "metadata": {},
   "outputs": [
    {
     "data": {
      "text/html": [
       "<div>\n",
       "<style scoped>\n",
       "    .dataframe tbody tr th:only-of-type {\n",
       "        vertical-align: middle;\n",
       "    }\n",
       "\n",
       "    .dataframe tbody tr th {\n",
       "        vertical-align: top;\n",
       "    }\n",
       "\n",
       "    .dataframe thead th {\n",
       "        text-align: right;\n",
       "    }\n",
       "</style>\n",
       "<table border=\"1\" class=\"dataframe\">\n",
       "  <thead>\n",
       "    <tr style=\"text-align: right;\">\n",
       "      <th></th>\n",
       "      <th>pregnant</th>\n",
       "      <th>glucose</th>\n",
       "      <th>bp</th>\n",
       "      <th>skin</th>\n",
       "      <th>insulin</th>\n",
       "      <th>bmi</th>\n",
       "      <th>pedigree</th>\n",
       "      <th>age</th>\n",
       "      <th>label</th>\n",
       "    </tr>\n",
       "  </thead>\n",
       "  <tbody>\n",
       "    <tr>\n",
       "      <th>1</th>\n",
       "      <td>6</td>\n",
       "      <td>148</td>\n",
       "      <td>72</td>\n",
       "      <td>35</td>\n",
       "      <td>0</td>\n",
       "      <td>33.6</td>\n",
       "      <td>0.627</td>\n",
       "      <td>50</td>\n",
       "      <td>1</td>\n",
       "    </tr>\n",
       "    <tr>\n",
       "      <th>2</th>\n",
       "      <td>1</td>\n",
       "      <td>85</td>\n",
       "      <td>66</td>\n",
       "      <td>29</td>\n",
       "      <td>0</td>\n",
       "      <td>26.6</td>\n",
       "      <td>0.351</td>\n",
       "      <td>31</td>\n",
       "      <td>0</td>\n",
       "    </tr>\n",
       "    <tr>\n",
       "      <th>3</th>\n",
       "      <td>8</td>\n",
       "      <td>183</td>\n",
       "      <td>64</td>\n",
       "      <td>0</td>\n",
       "      <td>0</td>\n",
       "      <td>23.3</td>\n",
       "      <td>0.672</td>\n",
       "      <td>32</td>\n",
       "      <td>1</td>\n",
       "    </tr>\n",
       "    <tr>\n",
       "      <th>4</th>\n",
       "      <td>1</td>\n",
       "      <td>89</td>\n",
       "      <td>66</td>\n",
       "      <td>23</td>\n",
       "      <td>94</td>\n",
       "      <td>28.1</td>\n",
       "      <td>0.167</td>\n",
       "      <td>21</td>\n",
       "      <td>0</td>\n",
       "    </tr>\n",
       "    <tr>\n",
       "      <th>5</th>\n",
       "      <td>0</td>\n",
       "      <td>137</td>\n",
       "      <td>40</td>\n",
       "      <td>35</td>\n",
       "      <td>168</td>\n",
       "      <td>43.1</td>\n",
       "      <td>2.288</td>\n",
       "      <td>33</td>\n",
       "      <td>1</td>\n",
       "    </tr>\n",
       "  </tbody>\n",
       "</table>\n",
       "</div>"
      ],
      "text/plain": [
       "  pregnant glucose  bp skin insulin   bmi pedigree age label\n",
       "1        6     148  72   35       0  33.6    0.627  50     1\n",
       "2        1      85  66   29       0  26.6    0.351  31     0\n",
       "3        8     183  64    0       0  23.3    0.672  32     1\n",
       "4        1      89  66   23      94  28.1    0.167  21     0\n",
       "5        0     137  40   35     168  43.1    2.288  33     1"
      ]
     },
     "execution_count": 4,
     "metadata": {},
     "output_type": "execute_result"
    }
   ],
   "source": [
    "pima.head()"
   ]
  },
  {
   "cell_type": "markdown",
   "id": "12b2f2cc",
   "metadata": {},
   "source": [
    "Выделяем целевую переменную и факторы"
   ]
  },
  {
   "cell_type": "code",
   "execution_count": 5,
   "id": "120ee3de",
   "metadata": {},
   "outputs": [],
   "source": [
    "Y = pima.label\n",
    "X = pima.drop(['label'], axis=1)"
   ]
  },
  {
   "cell_type": "markdown",
   "id": "a978de23",
   "metadata": {},
   "source": [
    "Разделяем набор данных на обучающую и тестовую выборки"
   ]
  },
  {
   "cell_type": "code",
   "execution_count": 6,
   "id": "2b23eefa",
   "metadata": {},
   "outputs": [],
   "source": [
    "x_train, x_test, y_train, y_test = train_test_split(X, Y, test_size=0.2, random_state=True)"
   ]
  },
  {
   "cell_type": "markdown",
   "id": "a0df1328",
   "metadata": {},
   "source": [
    "Строим модель логистической регрессии"
   ]
  },
  {
   "cell_type": "code",
   "execution_count": 7,
   "id": "fca172d5",
   "metadata": {},
   "outputs": [],
   "source": [
    "cls = LogisticRegression()"
   ]
  },
  {
   "cell_type": "markdown",
   "id": "93b60a42",
   "metadata": {},
   "source": [
    "Обучим наш классификатор на обучающей выборке"
   ]
  },
  {
   "cell_type": "code",
   "execution_count": 8,
   "id": "8a6ac921",
   "metadata": {},
   "outputs": [
    {
     "name": "stderr",
     "output_type": "stream",
     "text": [
      "C:\\Users\\alexv\\anaconda3\\lib\\site-packages\\sklearn\\linear_model\\_logistic.py:814: ConvergenceWarning: lbfgs failed to converge (status=1):\n",
      "STOP: TOTAL NO. of ITERATIONS REACHED LIMIT.\n",
      "\n",
      "Increase the number of iterations (max_iter) or scale the data as shown in:\n",
      "    https://scikit-learn.org/stable/modules/preprocessing.html\n",
      "Please also refer to the documentation for alternative solver options:\n",
      "    https://scikit-learn.org/stable/modules/linear_model.html#logistic-regression\n",
      "  n_iter_i = _check_optimize_result(\n"
     ]
    },
    {
     "data": {
      "text/plain": [
       "LogisticRegression()"
      ]
     },
     "execution_count": 8,
     "metadata": {},
     "output_type": "execute_result"
    }
   ],
   "source": [
    "cls.fit(x_train, y_train)"
   ]
  },
  {
   "cell_type": "markdown",
   "id": "67b2a97d",
   "metadata": {},
   "source": [
    "Сделаем предсказания по нашему классификатору на тестовой выборке для оценки эффективности полученной модели"
   ]
  },
  {
   "cell_type": "code",
   "execution_count": 9,
   "id": "cd311874",
   "metadata": {},
   "outputs": [],
   "source": [
    "y_pred = cls.predict(x_test)"
   ]
  },
  {
   "cell_type": "markdown",
   "id": "4423963d",
   "metadata": {},
   "source": [
    "Оценим эффективность предсказания тестовой выборки при помощи матрицы классификации:"
   ]
  },
  {
   "cell_type": "code",
   "execution_count": 10,
   "id": "aadf586c",
   "metadata": {},
   "outputs": [
    {
     "data": {
      "text/plain": [
       "array([[89, 10],\n",
       "       [24, 31]], dtype=int64)"
      ]
     },
     "execution_count": 10,
     "metadata": {},
     "output_type": "execute_result"
    }
   ],
   "source": [
    "my_matrix = metrics.confusion_matrix(y_test, y_pred)\n",
    "my_matrix"
   ]
  },
  {
   "cell_type": "code",
   "execution_count": 12,
   "id": "a62d377c",
   "metadata": {
    "scrolled": true
   },
   "outputs": [
    {
     "data": {
      "text/plain": [
       "Text(0.5, 15.0, 'Предсказанные значения')"
      ]
     },
     "execution_count": 12,
     "metadata": {},
     "output_type": "execute_result"
    },
    {
     "data": {
      "image/png": "[encoded data removed]",
      "text/plain": [
       "<Figure size 432x288 with 2 Axes>"
      ]
     },
     "metadata": {
      "needs_background": "light"
     },
     "output_type": "display_data"
    }
   ],
   "source": [
    "%matplotlib inline\n",
    "\n",
    "class_names = [0, 1]\n",
    "fig, ax = plt.subplots()\n",
    "ticks = np.arange(len(class_names))\n",
    "plt.xticks(ticks, class_names)\n",
    "plt.yticks(ticks, class_names)\n",
    "\n",
    "sns.heatmap(pd.DataFrame(\n",
    "    metrics.confusion_matrix(y_test, y_pred)),\n",
    "    annot=True)\n",
    "plt.ylabel('Действительные значения')\n",
    "plt.xlabel('Предсказанные значения')"
   ]
  },
  {
   "cell_type": "markdown",
   "id": "8aaa3187",
   "metadata": {},
   "source": [
    "89 - это кол-во тех людей, у которых нет диабета и модель предсказала это верно\n",
    "31 - это кол-во тех людей, у которых есть диабет и модель предсказала это верно\n",
    "24 - это кол-во тех людей, у которых в действительности есть диабет, но модель предсказала, что его нет\n",
    "10 - это кол-во людей, у которых нет диабета, но модель предсказала, что он есть"
   ]
  },
  {
   "cell_type": "markdown",
   "id": "27233cea",
   "metadata": {},
   "source": [
    "89 - true negative, классификатор верно утверждает, что объект не принадлежит к рассматриваемому классу.\n",
    "24 -   false negative, классификатор неверно утверждает, что объект не принадлежит к рассматриваемому классу.\n",
    "31 -  true positive, классификатор верно отнёс объект к рассматриваемому классу.\n",
    "10 -  false positive, классификатор неверно отнёс объект к рассматриваемому классу."
   ]
  },
  {
   "cell_type": "markdown",
   "id": "4da388b6",
   "metadata": {},
   "source": [
    "https://scikit-learn.org/stable/modules/generated/sklearn.metrics.confusion_matrix.html"
   ]
  },
  {
   "cell_type": "code",
   "execution_count": 13,
   "id": "50e1711b",
   "metadata": {},
   "outputs": [
    {
     "name": "stdout",
     "output_type": "stream",
     "text": [
      "              precision    recall  f1-score   support\n",
      "\n",
      "           0       0.79      0.90      0.84        99\n",
      "           1       0.76      0.56      0.65        55\n",
      "\n",
      "    accuracy                           0.78       154\n",
      "   macro avg       0.77      0.73      0.74       154\n",
      "weighted avg       0.78      0.78      0.77       154\n",
      "\n"
     ]
    }
   ],
   "source": [
    "print(metrics.classification_report(y_test, y_pred))"
   ]
  },
  {
   "cell_type": "code",
   "execution_count": 14,
   "id": "4bb8807c",
   "metadata": {},
   "outputs": [],
   "source": [
    "TP = my_matrix[1][1]\n",
    "TN = my_matrix[0][0]\n",
    "FP = my_matrix[0][1]\n",
    "FN = my_matrix[1][0]"
   ]
  },
  {
   "cell_type": "markdown",
   "id": "357ec4d0",
   "metadata": {},
   "source": [
    "#### Метрика достоверности предсказания"
   ]
  },
  {
   "cell_type": "code",
   "execution_count": 15,
   "id": "ea2db01e",
   "metadata": {},
   "outputs": [
    {
     "data": {
      "text/plain": [
       "0.7792207792207793"
      ]
     },
     "execution_count": 15,
     "metadata": {},
     "output_type": "execute_result"
    }
   ],
   "source": [
    "metrics.accuracy_score(y_test, y_pred)"
   ]
  },
  {
   "cell_type": "markdown",
   "id": "7547cb9a",
   "metadata": {},
   "source": [
    "Accuracy = (TN + TP)/(TN + FP + TP + FN)"
   ]
  },
  {
   "cell_type": "code",
   "execution_count": 16,
   "id": "7f59ad98",
   "metadata": {},
   "outputs": [
    {
     "data": {
      "text/plain": [
       "0.7792207792207793"
      ]
     },
     "execution_count": 16,
     "metadata": {},
     "output_type": "execute_result"
    }
   ],
   "source": [
    "(TN + TP)/(TN + FP + TP + FN)"
   ]
  },
  {
   "cell_type": "markdown",
   "id": "9c7c6ebf",
   "metadata": {},
   "source": [
    "#### Метрика точности"
   ]
  },
  {
   "cell_type": "code",
   "execution_count": 17,
   "id": "dabcfad5",
   "metadata": {},
   "outputs": [
    {
     "data": {
      "text/plain": [
       "0.7560975609756098"
      ]
     },
     "execution_count": 17,
     "metadata": {},
     "output_type": "execute_result"
    }
   ],
   "source": [
    "metrics.precision_score(y_test, y_pred, pos_label=\"1\")"
   ]
  },
  {
   "cell_type": "markdown",
   "id": "8c4943bf",
   "metadata": {},
   "source": [
    "Precision = TP / (TP + FP)"
   ]
  },
  {
   "cell_type": "code",
   "execution_count": 18,
   "id": "91010293",
   "metadata": {},
   "outputs": [
    {
     "data": {
      "text/plain": [
       "0.7560975609756098"
      ]
     },
     "execution_count": 18,
     "metadata": {},
     "output_type": "execute_result"
    }
   ],
   "source": [
    "TP / (TP + FP)"
   ]
  },
  {
   "cell_type": "markdown",
   "id": "e09e273c",
   "metadata": {},
   "source": [
    "#### Метрика полноты"
   ]
  },
  {
   "cell_type": "code",
   "execution_count": 19,
   "id": "67dc8aaa",
   "metadata": {},
   "outputs": [
    {
     "data": {
      "text/plain": [
       "0.5636363636363636"
      ]
     },
     "execution_count": 19,
     "metadata": {},
     "output_type": "execute_result"
    }
   ],
   "source": [
    "metrics.recall_score(y_test, y_pred, pos_label=\"1\")"
   ]
  },
  {
   "cell_type": "markdown",
   "id": "66e1a866",
   "metadata": {},
   "source": [
    "Recall = TP / (TP + FN)"
   ]
  },
  {
   "cell_type": "code",
   "execution_count": 20,
   "id": "636d09e8",
   "metadata": {},
   "outputs": [
    {
     "data": {
      "text/plain": [
       "0.5636363636363636"
      ]
     },
     "execution_count": 20,
     "metadata": {},
     "output_type": "execute_result"
    }
   ],
   "source": [
    " TP / (TP + FN)"
   ]
  }
 ],
 "metadata": {
  "kernelspec": {
   "display_name": "Python 3 (ipykernel)",
   "language": "python",
   "name": "python3"
  },
  "language_info": {
   "codemirror_mode": {
    "name": "ipython",
    "version": 3
   },
   "file_extension": ".py",
   "mimetype": "text/x-python",
   "name": "python",
   "nbconvert_exporter": "python",
   "pygments_lexer": "ipython3",
   "version": "3.9.12"
  }
 },
 "nbformat": 4,
 "nbformat_minor": 5
}
