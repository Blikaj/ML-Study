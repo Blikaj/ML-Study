{
 "cells": [
  {
   "cell_type": "code",
   "execution_count": 56,
   "id": "3cc21a62",
   "metadata": {},
   "outputs": [],
   "source": [
    "import numpy as np\n",
    "import pandas as pd\n",
    "import seaborn as sb\n",
    "from matplotlib import pyplot as plt"
   ]
  },
  {
   "cell_type": "markdown",
   "id": "59b8943b",
   "metadata": {},
   "source": [
    "Обработка по первому варианту, для замены варианта нужно прочесть другой файл"
   ]
  },
  {
   "cell_type": "code",
   "execution_count": 18,
   "id": "402bb797",
   "metadata": {},
   "outputs": [
    {
     "data": {
      "text/html": [
       "<div>\n",
       "<style scoped>\n",
       "    .dataframe tbody tr th:only-of-type {\n",
       "        vertical-align: middle;\n",
       "    }\n",
       "\n",
       "    .dataframe tbody tr th {\n",
       "        vertical-align: top;\n",
       "    }\n",
       "\n",
       "    .dataframe thead th {\n",
       "        text-align: right;\n",
       "    }\n",
       "</style>\n",
       "<table border=\"1\" class=\"dataframe\">\n",
       "  <thead>\n",
       "    <tr style=\"text-align: right;\">\n",
       "      <th></th>\n",
       "      <th>№</th>\n",
       "      <th>№ школы</th>\n",
       "      <th>Класс</th>\n",
       "      <th>Пол</th>\n",
       "      <th>Номер варианта</th>\n",
       "      <th>Задания с кратким ответом</th>\n",
       "      <th>Задания с развёрнутым ответом</th>\n",
       "      <th>Устная часть</th>\n",
       "      <th>Первичный балл</th>\n",
       "      <th>Балл</th>\n",
       "      <th>Минимальный балл</th>\n",
       "    </tr>\n",
       "  </thead>\n",
       "  <tbody>\n",
       "    <tr>\n",
       "      <th>0</th>\n",
       "      <td>1</td>\n",
       "      <td>117</td>\n",
       "      <td>11</td>\n",
       "      <td>М</td>\n",
       "      <td>341</td>\n",
       "      <td>1+++--1+-++---0---------0</td>\n",
       "      <td>0(1)0(3)0(1)0(3)0(2)0(2)0(3)0(3)0(2)0(2)0(1)0(1)</td>\n",
       "      <td>NaN</td>\n",
       "      <td>8</td>\n",
       "      <td>20</td>\n",
       "      <td>24</td>\n",
       "    </tr>\n",
       "    <tr>\n",
       "      <th>1</th>\n",
       "      <td>2</td>\n",
       "      <td>148</td>\n",
       "      <td>12А</td>\n",
       "      <td>М</td>\n",
       "      <td>338</td>\n",
       "      <td>1+---+0--+---+0----++-+-0</td>\n",
       "      <td>0(1)0(3)0(1)0(3)0(2)0(2)0(3)0(3)0(2)0(2)0(1)0(1)</td>\n",
       "      <td>NaN</td>\n",
       "      <td>8</td>\n",
       "      <td>20</td>\n",
       "      <td>24</td>\n",
       "    </tr>\n",
       "    <tr>\n",
       "      <th>2</th>\n",
       "      <td>3</td>\n",
       "      <td>152</td>\n",
       "      <td>13</td>\n",
       "      <td>Ж</td>\n",
       "      <td>104</td>\n",
       "      <td>2-----0--+----1---------1</td>\n",
       "      <td>0(1)0(3)0(1)0(3)0(2)0(2)0(3)1(3)0(2)1(2)1(1)1(1)</td>\n",
       "      <td>NaN</td>\n",
       "      <td>9</td>\n",
       "      <td>22</td>\n",
       "      <td>24</td>\n",
       "    </tr>\n",
       "    <tr>\n",
       "      <th>3</th>\n",
       "      <td>4</td>\n",
       "      <td>152</td>\n",
       "      <td>13</td>\n",
       "      <td>М</td>\n",
       "      <td>104</td>\n",
       "      <td>1+--+-0++-----2----++---0</td>\n",
       "      <td>0(1)0(3)0(1)0(3)0(2)0(2)0(3)0(3)0(2)0(2)0(1)0(1)</td>\n",
       "      <td>NaN</td>\n",
       "      <td>9</td>\n",
       "      <td>22</td>\n",
       "      <td>24</td>\n",
       "    </tr>\n",
       "    <tr>\n",
       "      <th>4</th>\n",
       "      <td>5</td>\n",
       "      <td>132</td>\n",
       "      <td>11</td>\n",
       "      <td>М</td>\n",
       "      <td>337</td>\n",
       "      <td>1++---0-+++---1----+----2</td>\n",
       "      <td>0(1)0(3)0(1)0(3)0(2)0(2)0(3)0(3)0(2)0(2)0(1)0(1)</td>\n",
       "      <td>NaN</td>\n",
       "      <td>10</td>\n",
       "      <td>24</td>\n",
       "      <td>24</td>\n",
       "    </tr>\n",
       "    <tr>\n",
       "      <th>...</th>\n",
       "      <td>...</td>\n",
       "      <td>...</td>\n",
       "      <td>...</td>\n",
       "      <td>...</td>\n",
       "      <td>...</td>\n",
       "      <td>...</td>\n",
       "      <td>...</td>\n",
       "      <td>...</td>\n",
       "      <td>...</td>\n",
       "      <td>...</td>\n",
       "      <td>...</td>\n",
       "    </tr>\n",
       "    <tr>\n",
       "      <th>3043</th>\n",
       "      <td>3044</td>\n",
       "      <td>146</td>\n",
       "      <td>11</td>\n",
       "      <td>Ж</td>\n",
       "      <td>338</td>\n",
       "      <td>2+++++5+++++++2+++++++++4</td>\n",
       "      <td>1(1)3(3)1(1)3(3)2(2)2(2)3(3)3(3)2(2)2(2)1(1)1(1)</td>\n",
       "      <td>NaN</td>\n",
       "      <td>58</td>\n",
       "      <td>100</td>\n",
       "      <td>24</td>\n",
       "    </tr>\n",
       "    <tr>\n",
       "      <th>3044</th>\n",
       "      <td>3045</td>\n",
       "      <td>147</td>\n",
       "      <td>11</td>\n",
       "      <td>Ж</td>\n",
       "      <td>340</td>\n",
       "      <td>2+++++5+++++++2+++++++++4</td>\n",
       "      <td>1(1)3(3)1(1)3(3)2(2)2(2)3(3)3(3)2(2)2(2)1(1)1(1)</td>\n",
       "      <td>NaN</td>\n",
       "      <td>58</td>\n",
       "      <td>100</td>\n",
       "      <td>24</td>\n",
       "    </tr>\n",
       "    <tr>\n",
       "      <th>3045</th>\n",
       "      <td>3046</td>\n",
       "      <td>147</td>\n",
       "      <td>11</td>\n",
       "      <td>Ж</td>\n",
       "      <td>338</td>\n",
       "      <td>2+++++5+++++++2+++++++++4</td>\n",
       "      <td>1(1)3(3)1(1)3(3)2(2)2(2)3(3)3(3)2(2)2(2)1(1)1(1)</td>\n",
       "      <td>NaN</td>\n",
       "      <td>58</td>\n",
       "      <td>100</td>\n",
       "      <td>24</td>\n",
       "    </tr>\n",
       "    <tr>\n",
       "      <th>3046</th>\n",
       "      <td>3047</td>\n",
       "      <td>147</td>\n",
       "      <td>11</td>\n",
       "      <td>Ж</td>\n",
       "      <td>337</td>\n",
       "      <td>2+++++5+++++++2+++++++++4</td>\n",
       "      <td>1(1)3(3)1(1)3(3)2(2)2(2)3(3)3(3)2(2)2(2)1(1)1(1)</td>\n",
       "      <td>NaN</td>\n",
       "      <td>58</td>\n",
       "      <td>100</td>\n",
       "      <td>24</td>\n",
       "    </tr>\n",
       "    <tr>\n",
       "      <th>3047</th>\n",
       "      <td>3048</td>\n",
       "      <td>144</td>\n",
       "      <td>11А</td>\n",
       "      <td>Ж</td>\n",
       "      <td>338</td>\n",
       "      <td>2+++++5+++++++2+++++++++4</td>\n",
       "      <td>1(1)3(3)1(1)3(3)2(2)2(2)3(3)3(3)2(2)2(2)1(1)1(1)</td>\n",
       "      <td>NaN</td>\n",
       "      <td>58</td>\n",
       "      <td>100</td>\n",
       "      <td>24</td>\n",
       "    </tr>\n",
       "  </tbody>\n",
       "</table>\n",
       "<p>3048 rows × 11 columns</p>\n",
       "</div>"
      ],
      "text/plain": [
       "         №  № школы Класс Пол  Номер варианта  Задания с кратким ответом  \\\n",
       "0        1      117    11   М             341  1+++--1+-++---0---------0   \n",
       "1        2      148   12А   М             338  1+---+0--+---+0----++-+-0   \n",
       "2        3      152    13   Ж             104  2-----0--+----1---------1   \n",
       "3        4      152    13   М             104  1+--+-0++-----2----++---0   \n",
       "4        5      132    11   М             337  1++---0-+++---1----+----2   \n",
       "...    ...      ...   ...  ..             ...                        ...   \n",
       "3043  3044      146    11   Ж             338  2+++++5+++++++2+++++++++4   \n",
       "3044  3045      147    11   Ж             340  2+++++5+++++++2+++++++++4   \n",
       "3045  3046      147    11   Ж             338  2+++++5+++++++2+++++++++4   \n",
       "3046  3047      147    11   Ж             337  2+++++5+++++++2+++++++++4   \n",
       "3047  3048      144   11А   Ж             338  2+++++5+++++++2+++++++++4   \n",
       "\n",
       "                         Задания с развёрнутым ответом  Устная часть  \\\n",
       "0     0(1)0(3)0(1)0(3)0(2)0(2)0(3)0(3)0(2)0(2)0(1)0(1)           NaN   \n",
       "1     0(1)0(3)0(1)0(3)0(2)0(2)0(3)0(3)0(2)0(2)0(1)0(1)           NaN   \n",
       "2     0(1)0(3)0(1)0(3)0(2)0(2)0(3)1(3)0(2)1(2)1(1)1(1)           NaN   \n",
       "3     0(1)0(3)0(1)0(3)0(2)0(2)0(3)0(3)0(2)0(2)0(1)0(1)           NaN   \n",
       "4     0(1)0(3)0(1)0(3)0(2)0(2)0(3)0(3)0(2)0(2)0(1)0(1)           NaN   \n",
       "...                                                ...           ...   \n",
       "3043  1(1)3(3)1(1)3(3)2(2)2(2)3(3)3(3)2(2)2(2)1(1)1(1)           NaN   \n",
       "3044  1(1)3(3)1(1)3(3)2(2)2(2)3(3)3(3)2(2)2(2)1(1)1(1)           NaN   \n",
       "3045  1(1)3(3)1(1)3(3)2(2)2(2)3(3)3(3)2(2)2(2)1(1)1(1)           NaN   \n",
       "3046  1(1)3(3)1(1)3(3)2(2)2(2)3(3)3(3)2(2)2(2)1(1)1(1)           NaN   \n",
       "3047  1(1)3(3)1(1)3(3)2(2)2(2)3(3)3(3)2(2)2(2)1(1)1(1)           NaN   \n",
       "\n",
       "      Первичный балл  Балл  Минимальный балл  \n",
       "0                  8    20                24  \n",
       "1                  8    20                24  \n",
       "2                  9    22                24  \n",
       "3                  9    22                24  \n",
       "4                 10    24                24  \n",
       "...              ...   ...               ...  \n",
       "3043              58   100                24  \n",
       "3044              58   100                24  \n",
       "3045              58   100                24  \n",
       "3046              58   100                24  \n",
       "3047              58   100                24  \n",
       "\n",
       "[3048 rows x 11 columns]"
      ]
     },
     "execution_count": 18,
     "metadata": {},
     "output_type": "execute_result"
    }
   ],
   "source": [
    "data1 = pd.read_excel(\"data/Вариант 1.xlsx\", skiprows = 2, skipfooter = 1)\n",
    "data1"
   ]
  },
  {
   "cell_type": "markdown",
   "id": "82e29588",
   "metadata": {},
   "source": [
    "#### 2. Сделайте описательную статистику по набранному баллу\n",
    "#### 3. Найдите процент учащихся, выполнивших работу ниже среднего\n",
    "#### 4. Найти процент учащихся не сдавших экзамен\n",
    "#### 5.Постройте круговую диаграмму, показывающую распределение сдавших и не сдавших экзамен\n",
    "#### 6. Постройте ядерную оценку плотности распределению баллов за экзамен\n",
    "#### 7. Найдите процентное соотношение учащихся, сдавших экзамен на «отлично», «хорошо», «удовлетворительно», «неудовлетворительно».\n",
    "#### 8. Какое процентное соотношение юношей и девушек писало данный экзамен?\n",
    "#### 9. Сколько школ принимало участие в экзамене?"
   ]
  },
  {
   "cell_type": "code",
   "execution_count": 20,
   "id": "149905e9",
   "metadata": {},
   "outputs": [
    {
     "data": {
      "text/plain": [
       "count    3048.000000\n",
       "mean       72.769029\n",
       "std        13.664908\n",
       "min        20.000000\n",
       "25%        64.000000\n",
       "50%        72.000000\n",
       "75%        82.000000\n",
       "max       100.000000\n",
       "Name: Балл, dtype: float64"
      ]
     },
     "execution_count": 20,
     "metadata": {},
     "output_type": "execute_result"
    }
   ],
   "source": [
    "#2 \n",
    "data1[\"Балл\"].describe()"
   ]
  },
  {
   "cell_type": "code",
   "execution_count": 27,
   "id": "bc380f8c",
   "metadata": {},
   "outputs": [
    {
     "data": {
      "text/plain": [
       "51.27952755905512"
      ]
     },
     "execution_count": 27,
     "metadata": {},
     "output_type": "execute_result"
    }
   ],
   "source": [
    "#3\n",
    "lowAvg = data1[data1[\"Балл\"] < data1[\"Балл\"].mean()].shape[0] / 3048 * 100\n",
    "lowAvg"
   ]
  },
  {
   "cell_type": "code",
   "execution_count": 30,
   "id": "8e8f4850",
   "metadata": {},
   "outputs": [
    {
     "data": {
      "text/plain": [
       "0.13123359580052493"
      ]
     },
     "execution_count": 30,
     "metadata": {},
     "output_type": "execute_result"
    }
   ],
   "source": [
    "#4\n",
    "fail = data1[data1[\"Балл\"] < data1[\"Минимальный балл\"].min()].shape[0] / 3048  * 100\n",
    "fail"
   ]
  },
  {
   "cell_type": "code",
   "execution_count": 37,
   "id": "09c7e938",
   "metadata": {},
   "outputs": [
    {
     "data": {
      "image/png": "[encoded data removed]",
      "text/plain": [
       "<Figure size 1080x1080 with 1 Axes>"
      ]
     },
     "metadata": {},
     "output_type": "display_data"
    }
   ],
   "source": [
    "#5\n",
    "ddt = [data1[data1[\"Балл\"] > data1[\"Минимальный балл\"].min()].shape[0], data1[data1[\"Балл\"] < data1[\"Минимальный балл\"].min()].shape[0]]\n",
    "newdf = pd.DataFrame({\"Количество\": [data1[data1[\"Балл\"] > data1[\"Минимальный балл\"].min()].shape[0], data1[data1[\"Балл\"] < data1[\"Минимальный балл\"].min()].shape[0]]}, index = [\"Cдавшие\", \"Не сдавшие\"])\n",
    "\n",
    "plot = newdf.plot.pie(y = \"Количество\", figsize=(15, 15))"
   ]
  },
  {
   "cell_type": "code",
   "execution_count": 57,
   "id": "47f2e201",
   "metadata": {},
   "outputs": [
    {
     "name": "stderr",
     "output_type": "stream",
     "text": [
      "C:\\Users\\alexv\\anaconda3\\lib\\site-packages\\seaborn\\distributions.py:2619: FutureWarning: `distplot` is a deprecated function and will be removed in a future version. Please adapt your code to use either `displot` (a figure-level function with similar flexibility) or `histplot` (an axes-level function for histograms).\n",
      "  warnings.warn(msg, FutureWarning)\n"
     ]
    },
    {
     "data": {
      "image/png": "[encoded data removed]",
      "text/plain": [
       "<Figure size 432x288 with 1 Axes>"
      ]
     },
     "metadata": {
      "needs_background": "light"
     },
     "output_type": "display_data"
    }
   ],
   "source": [
    "#6\n",
    "sb.distplot(data1[\"Балл\"])\n",
    "plt.show()"
   ]
  },
  {
   "cell_type": "code",
   "execution_count": 50,
   "id": "83ae1390",
   "metadata": {},
   "outputs": [
    {
     "name": "stdout",
     "output_type": "stream",
     "text": [
      "24.639107611548557  :  36.25328083989501  :  33.46456692913386\n"
     ]
    }
   ],
   "source": [
    "#7\n",
    "Amark = data1[data1[\"Балл\"] >= 85].shape[0] / 3048  * 100\n",
    "Bmark = data1[data1[\"Балл\"] < 85]\n",
    "Bmark = Bmark[Bmark[\"Балл\"] >= 70].shape[0] / 3048  * 100\n",
    "Cmark = data1[data1[\"Балл\"] < 70]\n",
    "Cmark = Cmark[Cmark[\"Балл\"] >= 51].shape[0] / 3048  * 100\n",
    "print(Amark,\" : \",Bmark,\" : \",Cmark)"
   ]
  },
  {
   "cell_type": "code",
   "execution_count": 42,
   "id": "0aec961b",
   "metadata": {},
   "outputs": [
    {
     "name": "stdout",
     "output_type": "stream",
     "text": [
      "42.02755905511811  :  57.97244094488189\n"
     ]
    }
   ],
   "source": [
    "#8\n",
    "m = data1[data1[\"Пол\"] == \"М\"].shape[0] / 3048 * 100\n",
    "f = data1[data1[\"Пол\"] == \"Ж\"].shape[0] / 3048 * 100\n",
    "print(m,\" : \",f)"
   ]
  },
  {
   "cell_type": "code",
   "execution_count": 41,
   "id": "ab407fd6",
   "metadata": {},
   "outputs": [
    {
     "data": {
      "text/plain": [
       "24"
      ]
     },
     "execution_count": 41,
     "metadata": {},
     "output_type": "execute_result"
    }
   ],
   "source": [
    "#9\n",
    "data1[\"№ школы\"].nunique()"
   ]
  }
 ],
 "metadata": {
  "kernelspec": {
   "display_name": "Python 3 (ipykernel)",
   "language": "python",
   "name": "python3"
  },
  "language_info": {
   "codemirror_mode": {
    "name": "ipython",
    "version": 3
   },
   "file_extension": ".py",
   "mimetype": "text/x-python",
   "name": "python",
   "nbconvert_exporter": "python",
   "pygments_lexer": "ipython3",
   "version": "3.9.12"
  }
 },
 "nbformat": 4,
 "nbformat_minor": 5
}
